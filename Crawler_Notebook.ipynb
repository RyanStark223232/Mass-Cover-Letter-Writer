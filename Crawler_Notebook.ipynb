{
 "cells": [
  {
   "cell_type": "code",
   "execution_count": 1,
   "id": "b9bc978f",
   "metadata": {},
   "outputs": [],
   "source": [
    "%load_ext autoreload\n",
    "%autoreload 2"
   ]
  },
  {
   "cell_type": "code",
   "execution_count": 6,
   "id": "151c0a72",
   "metadata": {},
   "outputs": [],
   "source": [
    "from module.SeleniumCrawler import SeleniumCrawler\n",
    "import pandas as pd\n",
    "import os\n",
    "from module.util import send_prompt, read_document"
   ]
  },
  {
   "cell_type": "markdown",
   "id": "358dc73f",
   "metadata": {},
   "source": [
    "## Indeed"
   ]
  },
  {
   "cell_type": "code",
   "execution_count": 3,
   "id": "0e68afc4",
   "metadata": {},
   "outputs": [],
   "source": [
    "NAME = \"Indeed-Data Science\"\n",
    "BASE_URL = \"https://ca.indeed.com/jobs?q=data+scientist&fl=&sort=date&vjk=cf4843c2196f979a\"\n",
    "NEW_URL_CSS = 'a[aria-label*=\"full details\"]'\n",
    "NEXT_PAGE_CSS = 'a[aria-label=\"Next Page\"]'\n",
    "CV_PATH = \"YOUR CV\"\n",
    "OPENAI_KEY = \"YOUR API KEY\"\n",
    "cv = read_document(CV_PATH)\n",
    "task_name = NAME.replace(\" \", \"_\")\n",
    "PROMPT_TEMPLATE = f\"\"\"\n",
    "Based on the CV provided below, write a cover letter tailored for the job.\n",
    "\n",
    "In the first paragraph, Introduce Geoffrey Wong, a full-stack data scientist, and how I am qualified for the role I am applying for. \n",
    "If appropriate, make a joke or a statement that aligns with the purpose in the company could have.\n",
    "\n",
    "In the second paragraph, Highlight your most relevant skills, experiences, and achievements that directly relate to the job requirements.\n",
    "Make sure to use an example that is relevant to the company purpose. Use metrics, numbers, or tangible results to quantify the example.\n",
    "\n",
    "In the third paragraph, try to come up with a problem the company could be facing. Link it to my past experience and explain\n",
    "how my expertise could help them tackle the problem.\n",
    "\n",
    "In general, keep the writing passionate and enthusiatic.\n",
    "\n",
    "CV\n",
    "-----------------\n",
    "```{cv}```\n",
    "\n",
    "Job Position Detial\n",
    "-----------------\n",
    "\"\"\""
   ]
  },
  {
   "cell_type": "markdown",
   "id": "ff310bbb",
   "metadata": {},
   "source": [
    "## Glassdoor"
   ]
  },
  {
   "cell_type": "code",
   "execution_count": 24,
   "id": "1ee242f5",
   "metadata": {},
   "outputs": [],
   "source": [
    "NAME = \"Glassdoor-Data Science\"\n",
    "BASE_URL = \"https://www.glassdoor.com/Job/taiwan-data-scientist-jobs-SRCH_IL.0,6_IN240_KO7,21.htm\"\n",
    "NEW_URL_CSS = 'a[href*=\"/partner/jobListing.htm\"]'\n",
    "NEXT_PAGE_CSS = 'button[aria-label=\"Next\"]' # Does not work, since there is no url for next page\n",
    "CV_PATH = \"YOUR CV\"\n",
    "OPENAI_KEY = \"YOUR API KEY\"\n",
    "cv = read_document(CV_PATH)\n",
    "task_name = NAME.replace(\" \", \"_\")\n",
    "PROMPT_TEMPLATE = f\"\"\"\n",
    "Based on the CV provided below, write a cover letter tailored for the job.\n",
    "\n",
    "In the first paragraph, Introduce Geoffrey Wong, a full-stack data scientist, and how I am qualified for the role I am applying for. \n",
    "If appropriate, make a joke or a statement that aligns with the purpose in the company could have.\n",
    "\n",
    "In the second paragraph, Highlight your most relevant skills, experiences, and achievements that directly relate to the job requirements.\n",
    "Make sure to use an example that is relevant to the company purpose. Use metrics, numbers, or tangible results to quantify the example.\n",
    "\n",
    "In the third paragraph, try to come up with a problem the company could be facing. Link it to my past experience and explain\n",
    "how my expertise could help them tackle the problem.\n",
    "\n",
    "In general, keep the writing passionate and enthusiatic.\n",
    "\n",
    "CV\n",
    "-----------------\n",
    "```{cv}```\n",
    "\n",
    "Job Position Detial\n",
    "-----------------\n",
    "\"\"\""
   ]
  },
  {
   "cell_type": "code",
   "execution_count": 25,
   "id": "dac04665",
   "metadata": {},
   "outputs": [
    {
     "name": "stdout",
     "output_type": "stream",
     "text": [
      "Dear Hiring Manager,\n",
      "\n",
      "I am writing to express my deep interest in the position of data scientist at your esteemed company. As a full-stack data scientist, I have the skills and experience to meet and exceed the job requirements. What excites me most about this role is the opportunity to use my expertise to help bring business insights that will benefit your company.\n",
      "\n",
      "Throughout my academic and professional career, I have gained extensive experience in data analytics and machine learning frameworks such as Pytorch, Keras, and Scikit-learn, among others. I have also spent time honing my skills with big data technologies, including Google Cloud Platform, Azure Model Hosting, and the likes. As a result of this, I was able to increase productivity by 10 times with a 50% reduction in costs while extracting insights using GPT-2 sentiments, analyzing interests, and picking out keywords for Hotmob Limited.\n",
      "\n",
      "In my previous work, I have taken an active role in automating entire data processing systems, including preprocessing log files, modularizing, and generating client-facing reports using the Python-based tool Airflow. I have also helped clients use Power Query and Power BI for efficient data analysis while revamping their entire data processing system in SAS. These efforts led to the successful development of two dashboards showcasing exceptional email and browsing behavior.\n",
      "\n",
      "If I may take a guess, your company might be facing challenges competing against competitors using AI technology to gain a competitive edge, or struggling to make data attractive to a broad audience. As a data scientist, I have helped build various models to predict insurance fraud and card shuffling techniques' randomness using alternative data. I believe my expertise in machine learning, computer vision, and artificial intelligence could help your company tackle these challenges. \n",
      "\n",
      "Thank you for your time and consideration of my application. I am excited about joining your team at such a dynamic company. Please let me know if there is any additional information I can provide. Looking forward to hearing from you!\n",
      "\n",
      "Sincerely,\n",
      "Geoffrey Wong\n"
     ]
    },
    {
     "ename": "KeyboardInterrupt",
     "evalue": "Interrupted by user",
     "output_type": "error",
     "traceback": [
      "\u001b[1;31m---------------------------------------------------------------------------\u001b[0m",
      "\u001b[1;31mKeyboardInterrupt: Interrupted by user"
     ]
    }
   ],
   "source": [
    "if os.path.exists(f\"history/{task_name}.csv\"):\n",
    "    job_dataframe = pd.read_csv(f\"history/{task_name}.csv\")\n",
    "else:\n",
    "    job_dataframe = pd.DataFrame(columns=['url', 'page_source', 'content', 'cover_letter'])\n",
    "\n",
    "crawler = SeleniumCrawler()\n",
    "while BASE_URL is not None:\n",
    "    urls = crawler.get_hrefs_by_css(BASE_URL,NEW_URL_CSS)\n",
    "    BASE_URL = crawler.get_href_by_css(BASE_URL,NEXT_PAGE_CSS)\n",
    "    \n",
    "    for job_url in urls:\n",
    "        source, meta = crawler.crawl_meta(job_url)\n",
    "        if (meta in job_dataframe['content'].values): continue\n",
    "        cover_letter = send_prompt(PROMPT_TEMPLATE + meta, OPENAI_KEY)\n",
    "        print(cover_letter)\n",
    "        job_dict = {\n",
    "            \"url\": job_url,\n",
    "            \"page_source\": source,\n",
    "            \"content\": meta,\n",
    "            \"cover_letter\":  cover_letter\n",
    "        }\n",
    "        job_dataframe.loc[len(job_dataframe)] = job_dict\n",
    "        #job_dataframe = job_dataframe.append(job_dict, ignore_index=True)\n",
    "        job_dataframe.to_csv(f\"history/{task_name}.csv\", index = False)\n",
    "        input(\"Proceed?\")\n",
    "        #break"
   ]
  },
  {
   "cell_type": "code",
   "execution_count": null,
   "id": "ac69cd35",
   "metadata": {},
   "outputs": [],
   "source": [
    "crawler.exit_driver()"
   ]
  }
 ],
 "metadata": {
  "kernelspec": {
   "display_name": "Python 3 (ipykernel)",
   "language": "python",
   "name": "python3"
  },
  "language_info": {
   "codemirror_mode": {
    "name": "ipython",
    "version": 3
   },
   "file_extension": ".py",
   "mimetype": "text/x-python",
   "name": "python",
   "nbconvert_exporter": "python",
   "pygments_lexer": "ipython3",
   "version": "3.10.11"
  }
 },
 "nbformat": 4,
 "nbformat_minor": 5
}
